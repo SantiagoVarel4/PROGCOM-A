{
  "nbformat": 4,
  "nbformat_minor": 0,
  "metadata": {
    "colab": {
      "provenance": [],
      "authorship_tag": "ABX9TyN7NCWNO/TzBMDHFmyapdgj",
      "include_colab_link": true
    },
    "kernelspec": {
      "name": "python3",
      "display_name": "Python 3"
    },
    "language_info": {
      "name": "python"
    }
  },
  "cells": [
    {
      "cell_type": "markdown",
      "metadata": {
        "id": "view-in-github",
        "colab_type": "text"
      },
      "source": [
        "<a href=\"https://colab.research.google.com/github/SantiagoVarel4/PROGCOM-A/blob/main/Untitled5.ipynb\" target=\"_parent\"><img src=\"https://colab.research.google.com/assets/colab-badge.svg\" alt=\"Open In Colab\"/></a>"
      ]
    },
    {
      "cell_type": "code",
      "source": [
        "##1 QUEST II GQ2, SANTIAGO VARELA TORRES [Progcom-A]"
      ],
      "metadata": {
        "id": "YemIOn5YZ1pi"
      },
      "execution_count": 27,
      "outputs": []
    },
    {
      "cell_type": "code",
      "source": [
        "def resistencias_en_serie(*resistencias):\n",
        "    return sum(resistencias)\n",
        "\n",
        "def resistencias_en_paralelo(*resistencias):\n",
        "    return 1 / sum(1 / r for r in resistencias)\n",
        "\n",
        "def calcular_resistencia():\n",
        "    print(\"¿Deseas calcular las resistencias en serie o en paralelo?\")\n",
        "    opcion = input(\"Ingresa 'serie' o 'paralelo': \")\n",
        "\n",
        "    if opcion.lower() == \"serie\":\n",
        "        resistencias = input(\"Ingresa los valores de las resistencias separados por comas: \")\n",
        "        resistencias = [float(r) for r in resistencias.split(\",\")]\n",
        "        resistencia_total = resistencias_en_serie(*resistencias)\n",
        "        print(f\"La resistencia total en serie es: {resistencia_total} Ω\")\n",
        "    elif opcion.lower() == \"paralelo\":\n",
        "        resistencias = input(\"Ingresa los valores de las resistencias separados por comas: \")\n",
        "        resistencias = [float(r) for r in resistencias.split(\",\")]\n",
        "        resistencia_total = resistencias_en_paralelo(*resistencias)\n",
        "        print(f\"La resistencia total en paralelo es: {resistencia_total} Ω\")\n",
        "    else:\n",
        "        print(\"Opción inválida. Por favor, ingresa 'serie' o 'paralelo'.\")\n",
        "        calcular_resistencia()\n",
        "\n",
        "calcular_resistencia()"
      ],
      "metadata": {
        "colab": {
          "base_uri": "https://localhost:8080/"
        },
        "id": "I-oPxnRUixrV",
        "outputId": "5b770de4-6584-4ab0-cd19-94ae912c1ab1"
      },
      "execution_count": 28,
      "outputs": [
        {
          "output_type": "stream",
          "name": "stdout",
          "text": [
            "¿Deseas calcular las resistencias en serie o en paralelo?\n",
            "Ingresa 'serie' o 'paralelo': 2,5,8\n",
            "Opción inválida. Por favor, ingresa 'serie' o 'paralelo'.\n",
            "¿Deseas calcular las resistencias en serie o en paralelo?\n",
            "Ingresa 'serie' o 'paralelo': paralelo\n",
            "Ingresa los valores de las resistencias separados por comas: 2,5,8\n",
            "La resistencia total en paralelo es: 1.2121212121212122 Ω\n"
          ]
        }
      ]
    }
  ]
}