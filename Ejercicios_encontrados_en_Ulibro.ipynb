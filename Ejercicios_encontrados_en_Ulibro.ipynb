{
  "nbformat": 4,
  "nbformat_minor": 0,
  "metadata": {
    "colab": {
      "provenance": [],
      "authorship_tag": "ABX9TyPzryDLj7gepd2IyiWMzBUN",
      "include_colab_link": true
    },
    "kernelspec": {
      "name": "python3",
      "display_name": "Python 3"
    },
    "language_info": {
      "name": "python"
    }
  },
  "cells": [
    {
      "cell_type": "markdown",
      "metadata": {
        "id": "view-in-github",
        "colab_type": "text"
      },
      "source": [
        "<a href=\"https://colab.research.google.com/github/SantiagoVarel4/PROGCOM-A/blob/main/Ejercicios_encontrados_en_Ulibro.ipynb\" target=\"_parent\"><img src=\"https://colab.research.google.com/assets/colab-badge.svg\" alt=\"Open In Colab\"/></a>"
      ]
    },
    {
      "cell_type": "markdown",
      "source": [
        "#1. Ejercicios encontrados en libro de Python\n",
        " Equipo conformado por:\n",
        "- Juan Diego Suarez\n",
        "- Santiago Sanabria\n",
        "- Santiago Varela"
      ],
      "metadata": {
        "id": "imaoOrjxYuXa"
      }
    },
    {
      "cell_type": "markdown",
      "source": [
        "Diseña un algoritmo que calcule el IVA (16%) de un producto dado su precio de venta sin IVA."
      ],
      "metadata": {
        "id": "pmVOjEGxY1iJ"
      }
    },
    {
      "cell_type": "code",
      "execution_count": null,
      "metadata": {
        "colab": {
          "base_uri": "https://localhost:8080/"
        },
        "id": "y7-j59rEYohK",
        "outputId": "a655df98-dd1a-467b-c015-148846de7636"
      },
      "outputs": [
        {
          "output_type": "stream",
          "name": "stdout",
          "text": [
            "Ingresa el precio de venta sin IVA: 40.000\n",
            "El IVA del 16% para un precio sin IVA de $40.00 es: $6.40\n"
          ]
        }
      ],
      "source": [
        "def calcular_iva(precio_sin_iva):\n",
        "    iva = precio_sin_iva * 0.16\n",
        "    return iva\n",
        "\n",
        "precio_sin_iva = float(input(\"Ingresa el precio de venta sin IVA: \"))\n",
        "iva_calculado = calcular_iva(precio_sin_iva)\n",
        "\n",
        "print(f\"El IVA del 16% para un precio sin IVA de ${precio_sin_iva:.2f} es: ${iva_calculado:.2f}\")"
      ]
    },
    {
      "cell_type": "markdown",
      "source": [
        "Diseña un algoritmo para calcular el area de un circulo dado su radio. (Recuerda que el area de un circulo es π veces el cuadrado del radio.)\n"
      ],
      "metadata": {
        "id": "zxCXeVJjZSYx"
      }
    },
    {
      "cell_type": "code",
      "source": [
        "import math\n",
        "\n",
        "def calcular_area_circulo(radio):\n",
        "    area = math.pi * (radio ** 2)\n",
        "    return area\n",
        "\n",
        "radio = float(input(\"Ingresa el radio del círculo: \"))\n",
        "area_calculada = calcular_area_circulo(radio)\n",
        "\n",
        "print(f\"El área del círculo con radio {radio} es: {area_calculada:.2f}\")"
      ],
      "metadata": {
        "colab": {
          "base_uri": "https://localhost:8080/"
        },
        "id": "6Pbq1j3tZmY6",
        "outputId": "23ee39dc-c678-4079-f0e3-673dcebdc8a4"
      },
      "execution_count": null,
      "outputs": [
        {
          "output_type": "stream",
          "name": "stdout",
          "text": [
            "Ingresa el radio del círculo: 4\n",
            "El área del círculo con radio 4.0 es: 50.27\n"
          ]
        }
      ]
    },
    {
      "cell_type": "markdown",
      "source": [
        "Calcula con una unica expresion el valor absoluto del redondeo de −3.2. (El resultado es 3.0.)\n"
      ],
      "metadata": {
        "id": "oEugDP4SbNn7"
      }
    },
    {
      "cell_type": "code",
      "source": [
        "resultado = abs(round(-3.2))\n",
        "print(resultado)"
      ],
      "metadata": {
        "colab": {
          "base_uri": "https://localhost:8080/"
        },
        "id": "AyUWRyA-bODJ",
        "outputId": "bf0fffea-25ed-4bd7-9107-781ecc000c12"
      },
      "execution_count": null,
      "outputs": [
        {
          "output_type": "stream",
          "name": "stdout",
          "text": [
            "3\n"
          ]
        }
      ]
    }
  ]
}