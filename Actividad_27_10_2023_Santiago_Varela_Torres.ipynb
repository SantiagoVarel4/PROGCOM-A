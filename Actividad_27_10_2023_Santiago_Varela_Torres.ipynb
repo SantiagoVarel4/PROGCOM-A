{
  "nbformat": 4,
  "nbformat_minor": 0,
  "metadata": {
    "colab": {
      "provenance": [],
      "authorship_tag": "ABX9TyN9Zdfgw6dcoGbgFX2pR9VA",
      "include_colab_link": true
    },
    "kernelspec": {
      "name": "python3",
      "display_name": "Python 3"
    },
    "language_info": {
      "name": "python"
    }
  },
  "cells": [
    {
      "cell_type": "markdown",
      "metadata": {
        "id": "view-in-github",
        "colab_type": "text"
      },
      "source": [
        "<a href=\"https://colab.research.google.com/github/SantiagoVarel4/PROGCOM-A/blob/main/Actividad_27_10_2023_Santiago_Varela_Torres.ipynb\" target=\"_parent\"><img src=\"https://colab.research.google.com/assets/colab-badge.svg\" alt=\"Open In Colab\"/></a>"
      ]
    },
    {
      "cell_type": "code",
      "execution_count": 1,
      "metadata": {
        "id": "o4DgH-a2853i"
      },
      "outputs": [],
      "source": [
        "consonantes=[\"b\",\"c\",\"d\",\"f\",\"g\",\"h\",\"j\",\"k\",\"l\",\"m\",\"n\",\"ñ\",\"p\",\"q\",\"r\",\"s\",\"t\",\"v\",\"w\",\"x\",\"y\",\"z\"]\n",
        "vocales=[\"a\",\"e\",\"i\",\"o\",\"u\"]\n",
        "tildes=[\"á\",\"é\",\"í\",\"ó\",\"ú\"]\n",
        "def codificador(palabra,m,n,t):\n",
        "  codigo=[]\n",
        "  palabra=palabra.lower()\n",
        "  for i in palabra:\n",
        "    if i in consonantes:\n",
        "      if consonantes.index(i)+m>len(consonantes):\n",
        "        codigo.append(consonantes[(consonantes.index(i)+m)-len(consonantes)])\n",
        "      else:\n",
        "        codigo.append(consonantes[consonantes.index(i)+m])\n",
        "    elif i in vocales:\n",
        "      codigo.append(vocales[vocales.index(i)-n])\n",
        "    elif i in tildes:\n",
        "      if t==1:\n",
        "        codigo.append(tildes[tildes.index(i)+1])\n",
        "      else:\n",
        "        codigo.append(tildes[tildes.index(i)-1])\n",
        "    else:\n",
        "      codigo.append(i)\n",
        "  palabracod=\"\".join(map(str, codigo))\n",
        "  return palabracod"
      ]
    },
    {
      "cell_type": "code",
      "source": [
        "palabra=input(\"Ingrese una palabra cualquiera \")\n",
        "m=int(input(\"Ingrese la cantidad de espacios para las consonantes \"))\n",
        "n=int(input(\"Ingrese la cantidad de espacios para las vocales \"))\n",
        "t=int(input(\"Ingrese la dirección de las tildes 1.Derecha 2.Izquierda \"))\n",
        "if t>2:\n",
        "  while t>2:\n",
        "    print(\"Por favor ingrese un número válido\")\n",
        "    t=input(\"Ingrese la dirección de las tildes 1.Derecha 2.Izquierda \")\n",
        "codificador(palabra,m,n,t)"
      ],
      "metadata": {
        "colab": {
          "base_uri": "https://localhost:8080/",
          "height": 105
        },
        "id": "7uNtYbUR8_2N",
        "outputId": "221693ce-3b3b-49b9-9495-190271f4459d"
      },
      "execution_count": 2,
      "outputs": [
        {
          "name": "stdout",
          "output_type": "stream",
          "text": [
            "Ingrese una palabra cualquiera Nicolás\n",
            "Ingrese la cantidad de espacios para las consonantes 3\n",
            "Ingrese la cantidad de espacios para las vocales 4\n",
            "Ingrese la dirección de las tildes 1.Derecha 2.Izquierda 1\n"
          ]
        },
        {
          "output_type": "execute_result",
          "data": {
            "text/plain": [
              "'qoguñéw'"
            ],
            "application/vnd.google.colaboratory.intrinsic+json": {
              "type": "string"
            }
          },
          "metadata": {},
          "execution_count": 2
        }
      ]
    },
    {
      "cell_type": "code",
      "source": [
        "consonantes=[\"b\",\"c\",\"d\",\"f\",\"g\",\"h\",\"j\",\"k\",\"l\",\"m\",\"n\",\"ñ\",\"p\",\"q\",\"r\",\"s\",\"t\",\"v\",\"w\",\"x\",\"y\",\"z\"]\n",
        "vocales=[\"a\",\"e\",\"i\",\"o\",\"u\"]\n",
        "tildes=[\"á\",\"é\",\"í\",\"ó\",\"ú\"]\n",
        "def decodificador(palabradec,mdec,ndec,tdec):\n",
        "  decod=[]\n",
        "  palabradec=palabradec.lower()\n",
        "  for i in palabradec:\n",
        "    if i in consonantes:\n",
        "      decod.append(consonantes[consonantes.index(i)-mdec])\n",
        "    elif i in vocales:\n",
        "      if vocales.index(i)+n>len(vocales):\n",
        "        decod.append(vocales[(vocales.index(i)+ndec)-len(vocales)])\n",
        "      else:\n",
        "        decod.append(vocales[vocales.index(i)+ndec])\n",
        "    elif i in tildes:\n",
        "      if tdec==1:\n",
        "        decod.append(tildes[tildes.index(i)+1])\n",
        "      else:\n",
        "        decod.append(tildes[tildes.index(i)-1])\n",
        "    else:\n",
        "      decod.append(i)\n",
        "  palabradecodificada=\"\".join(map(str, decod))\n",
        "  return palabradecodificada"
      ],
      "metadata": {
        "id": "lPqMQ8HD9CSc"
      },
      "execution_count": 3,
      "outputs": []
    },
    {
      "cell_type": "code",
      "source": [
        "palabradec=input(\"Ingrese una palabra codificada \")\n",
        "mdec=int(input(\"Ingrese la cantidad de espacios para las consonantes \"))\n",
        "ndec=int(input(\"Ingrese la cantidad de espacios para las vocales \"))\n",
        "tdec=int(input(\"Ingrese la dirección de las tildes 1.Derecha 2.Izquierda \"))\n",
        "if t>2:\n",
        "  while t>2:\n",
        "    print(\"Por favor ingrese un número válido\")\n",
        "    t=input(\"Ingrese la dirección de las tildes 1.Derecha 2.Izquierda \")\n",
        "decodificador(palabradec,mdec,ndec,tdec)"
      ],
      "metadata": {
        "colab": {
          "base_uri": "https://localhost:8080/",
          "height": 105
        },
        "id": "AogoKvL-9Ehs",
        "outputId": "0a0e05b0-3415-4dcb-e461-b48a55b8bb65"
      },
      "execution_count": 4,
      "outputs": [
        {
          "name": "stdout",
          "output_type": "stream",
          "text": [
            "Ingrese una palabra codificada hola\n",
            "Ingrese la cantidad de espacios para las consonantes 2\n",
            "Ingrese la cantidad de espacios para las vocales 2\n",
            "Ingrese la dirección de las tildes 1.Derecha 2.Izquierda 2\n"
          ]
        },
        {
          "output_type": "execute_result",
          "data": {
            "text/plain": [
              "'faji'"
            ],
            "application/vnd.google.colaboratory.intrinsic+json": {
              "type": "string"
            }
          },
          "metadata": {},
          "execution_count": 4
        }
      ]
    }
  ]
}