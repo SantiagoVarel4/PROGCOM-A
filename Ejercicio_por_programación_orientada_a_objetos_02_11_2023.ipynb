{
  "nbformat": 4,
  "nbformat_minor": 0,
  "metadata": {
    "colab": {
      "provenance": [],
      "authorship_tag": "ABX9TyMw3vQgoXyyU1imUTQZmd32",
      "include_colab_link": true
    },
    "kernelspec": {
      "name": "python3",
      "display_name": "Python 3"
    },
    "language_info": {
      "name": "python"
    }
  },
  "cells": [
    {
      "cell_type": "markdown",
      "metadata": {
        "id": "view-in-github",
        "colab_type": "text"
      },
      "source": [
        "<a href=\"https://colab.research.google.com/github/SantiagoVarel4/PROGCOM-A/blob/main/Ejercicio_por_programaci%C3%B3n_orientada_a_objetos_02_11_2023.ipynb\" target=\"_parent\"><img src=\"https://colab.research.google.com/assets/colab-badge.svg\" alt=\"Open In Colab\"/></a>"
      ]
    },
    {
      "cell_type": "code",
      "execution_count": 17,
      "metadata": {
        "id": "IIt9bN4Sctkx"
      },
      "outputs": [],
      "source": [
        "#Creando la clase humana\n",
        "class humano():\n",
        "  #Creando la funcion constructor\n",
        "  def __init__(self,nombre,cojos,ojos,boca,piernas,cpiel,estatura,peso,sexo):\n",
        "    self.nombre=nombre\n",
        "    self.ojos=ojos\n",
        "    self.cojos=cojos\n",
        "    self.boca=boca\n",
        "    self.piernas=piernas\n",
        "    self.cpiel=cpiel\n",
        "    self.estatura=estatura\n",
        "    self.peso=peso\n",
        "    self.sexo=sexo\n",
        "#Funcion tradicional estaticas\n",
        "  def entrenar(self,vel):\n",
        "    if self.piernas>=1 and vel<0:\n",
        "      print({self.nombre}, \"esta subiendo peso\")\n",
        "      vel=-vel\n",
        "      return vel\n",
        "    else:\n",
        "      print({self.nombre}, \"va rompiendo records\")\n",
        "\n",
        "    if vel==0: return f\"{self.nombre} está en estado de reposo\"\n",
        "    elif vel>0 and vel<=5:return f\"{self.nombre} está frio\"\n",
        "    elif vel>1 and vel<=5:return f\"{self.nombre} está caliente\"\n",
        "    elif vel>5 and vel<=10:return f\"{self.nombre} está ejercitado\"\n",
        "    elif vel>10:return f\"{self.nombre} esta mamadisimo\""
      ]
    },
    {
      "cell_type": "code",
      "source": [
        "santiago=humano(\"Santi\",2,\"verde\",1,2,\"blancox\",1.7,60,\"masculino\")"
      ],
      "metadata": {
        "id": "RrGNDyw-emCn"
      },
      "execution_count": 18,
      "outputs": []
    },
    {
      "cell_type": "code",
      "source": [
        "santiago.entrenar(25)"
      ],
      "metadata": {
        "colab": {
          "base_uri": "https://localhost:8080/",
          "height": 53
        },
        "id": "KqxVZLLTflsi",
        "outputId": "b977c398-b804-4949-a085-32567812e282"
      },
      "execution_count": 19,
      "outputs": [
        {
          "output_type": "stream",
          "name": "stdout",
          "text": [
            "{'Santi'} va rompiendo records\n"
          ]
        },
        {
          "output_type": "execute_result",
          "data": {
            "text/plain": [
              "'Santi esta mamadisimo'"
            ],
            "application/vnd.google.colaboratory.intrinsic+json": {
              "type": "string"
            }
          },
          "metadata": {},
          "execution_count": 19
        }
      ]
    }
  ]
}