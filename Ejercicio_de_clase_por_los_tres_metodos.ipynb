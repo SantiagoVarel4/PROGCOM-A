{
  "nbformat": 4,
  "nbformat_minor": 0,
  "metadata": {
    "colab": {
      "provenance": [],
      "authorship_tag": "ABX9TyOY5MaIGU95eaAy1WBsWwiw",
      "include_colab_link": true
    },
    "kernelspec": {
      "name": "python3",
      "display_name": "Python 3"
    },
    "language_info": {
      "name": "python"
    }
  },
  "cells": [
    {
      "cell_type": "markdown",
      "metadata": {
        "id": "view-in-github",
        "colab_type": "text"
      },
      "source": [
        "<a href=\"https://colab.research.google.com/github/SantiagoVarel4/PROGCOM-A/blob/main/Ejercicio_de_clase_por_los_tres_metodos.ipynb\" target=\"_parent\"><img src=\"https://colab.research.google.com/assets/colab-badge.svg\" alt=\"Open In Colab\"/></a>"
      ]
    },
    {
      "cell_type": "markdown",
      "source": [
        "#Genere una cuarta columna para la matriz IMC que tenga como nombre IMC y calcule el indice de masas corporal que es Nombre, Peso, Altura"
      ],
      "metadata": {
        "id": "pDCBOSl8DztK"
      }
    },
    {
      "cell_type": "markdown",
      "source": [
        "#por Funciones"
      ],
      "metadata": {
        "id": "2uHnegMnEK84"
      }
    },
    {
      "cell_type": "code",
      "execution_count": 5,
      "metadata": {
        "colab": {
          "base_uri": "https://localhost:8080/"
        },
        "id": "AmZmyf0tDuRZ",
        "outputId": "f1fa85af-4490-4b09-9dea-0bb243c715e4"
      },
      "outputs": [
        {
          "output_type": "stream",
          "name": "stdout",
          "text": [
            "  nombre  peso  altura\n",
            "0   Juan    70    1.75\n",
            "1  María    65    1.60\n",
            "2  Pedro    80    1.85\n",
            "3  Luisa    55    1.70\n"
          ]
        }
      ],
      "source": [
        "import pandas as pd\n",
        "\n",
        "datos = {'nombre': ['Juan', 'María', 'Pedro', 'Luisa'],\n",
        "         'peso': [70, 65, 80, 55],\n",
        "         'altura': [1.75, 1.60, 1.85, 1.70]}\n",
        "df = pd.DataFrame(datos)\n",
        "def calcular_imc(peso, altura):\n",
        "    return round(peso / (altura ** 2), 2)\n",
        "    df['IMC'] = df.apply(lambda x: calcular_imc(x['peso'], x['altura']), axis=1)\n",
        "print(df)"
      ]
    },
    {
      "cell_type": "markdown",
      "source": [
        "# Lista"
      ],
      "metadata": {
        "id": "1CcGAH2uHRQW"
      }
    },
    {
      "cell_type": "code",
      "source": [
        "import pandas as pd\n",
        "\n",
        "datos = [['Juan', 70, 1.75], ['María', 65, 1.60], ['Pedro', 80, 1.85], ['Luisa', 55, 1.70]]\n",
        "df = pd.DataFrame(datos, columns=['nombre', 'peso', 'altura'])\n",
        "def calcular_imc(peso, altura):\n",
        "    return round(peso / (altura ** 2), 2)\n",
        "imc = []\n",
        "for i in range(len(df)):\n",
        "    imc.append(calcular_imc(df['peso'][i], df['altura'][i]))\n",
        "df['IMC'] = imc\n",
        "print(df)"
      ],
      "metadata": {
        "colab": {
          "base_uri": "https://localhost:8080/"
        },
        "id": "Scu-IWZ9HUBe",
        "outputId": "31579a59-d384-4c8e-f163-7e7948794940"
      },
      "execution_count": 6,
      "outputs": [
        {
          "output_type": "stream",
          "name": "stdout",
          "text": [
            "  nombre  peso  altura    IMC\n",
            "0   Juan    70    1.75  22.86\n",
            "1  María    65    1.60  25.39\n",
            "2  Pedro    80    1.85  23.37\n",
            "3  Luisa    55    1.70  19.03\n"
          ]
        }
      ]
    },
    {
      "cell_type": "markdown",
      "source": [
        "#Comprension"
      ],
      "metadata": {
        "id": "YsTIvd9pM-Da"
      }
    },
    {
      "cell_type": "code",
      "source": [
        "import pandas as pd\n",
        "\n",
        "datos = [['Juan', 70, 1.75], ['María', 65, 1.60], ['Pedro', 80, 1.85], ['Luisa', 55, 1.70]]\n",
        "df = pd.DataFrame(datos, columns=['nombre', 'peso', 'altura'])\n",
        "calcular_imc = lambda peso, altura: round(peso / (altura ** 2), 2)\n",
        "df['IMC'] = [calcular_imc(peso, altura) for nombre, peso, altura in df.values]\n",
        "print(df)"
      ],
      "metadata": {
        "colab": {
          "base_uri": "https://localhost:8080/"
        },
        "id": "QV01dNA6Ka1A",
        "outputId": "07631353-2644-471c-96e8-e99a1ddf845e"
      },
      "execution_count": 7,
      "outputs": [
        {
          "output_type": "stream",
          "name": "stdout",
          "text": [
            "  nombre  peso  altura    IMC\n",
            "0   Juan    70    1.75  22.86\n",
            "1  María    65    1.60  25.39\n",
            "2  Pedro    80    1.85  23.37\n",
            "3  Luisa    55    1.70  19.03\n"
          ]
        }
      ]
    }
  ]
}