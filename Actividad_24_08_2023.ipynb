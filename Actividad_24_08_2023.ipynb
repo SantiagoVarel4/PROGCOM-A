{
  "nbformat": 4,
  "nbformat_minor": 0,
  "metadata": {
    "colab": {
      "provenance": [],
      "authorship_tag": "ABX9TyPsUqPGpQQk9PqIbWFdQRIE",
      "include_colab_link": true
    },
    "kernelspec": {
      "name": "python3",
      "display_name": "Python 3"
    },
    "language_info": {
      "name": "python"
    }
  },
  "cells": [
    {
      "cell_type": "markdown",
      "metadata": {
        "id": "view-in-github",
        "colab_type": "text"
      },
      "source": [
        "<a href=\"https://colab.research.google.com/github/SantiagoVarel4/PROGCOM-A/blob/main/Actividad_24_08_2023.ipynb\" target=\"_parent\"><img src=\"https://colab.research.google.com/assets/colab-badge.svg\" alt=\"Open In Colab\"/></a>"
      ]
    },
    {
      "cell_type": "code",
      "execution_count": null,
      "metadata": {
        "id": "m2B9wastwNNb"
      },
      "outputs": [],
      "source": []
    },
    {
      "cell_type": "markdown",
      "source": [
        "1. Crear un Programa que solicite el nombre y el codigo de un estudiante y que luego lo imprima, junto con el logo de la institucion educativa perteneciente\n",
        "- Digite su nombre: Sonia Smith\n",
        "- Digite su codigo: U000582515\n",
        "\n",
        "- el programa imprimira\n",
        "- UNIVERSIDAD AUTONOMA DE BUCARAMANGA\n",
        "- Nombre del estudiante: Sonia Smith\n",
        "- Codigo: U000582515"
      ],
      "metadata": {
        "id": "aWeBL-uqziec"
      }
    },
    {
      "cell_type": "code",
      "source": [
        "nombre = input(\"digite su nombre: \")\n",
        "codigo = input(\"digite su codigo:\")\n",
        "\n",
        "nombre_U = \"Universidad Autonoma de Bucaramanga\"\n",
        "\n",
        "print(f\"{nombre_U}\\nNombre del estudiante: {nombre}\\nCodigo: {codigo}\")"
      ],
      "metadata": {
        "colab": {
          "base_uri": "https://localhost:8080/"
        },
        "id": "l5UgFLg1BjsI",
        "outputId": "cb0605f3-eb6c-44f7-c6a8-3cc9d20f781f"
      },
      "execution_count": null,
      "outputs": [
        {
          "output_type": "stream",
          "name": "stdout",
          "text": [
            "digite su nombre: sonia smith\n",
            "digite su codigo:U000582515\n",
            "Unab\n",
            "Nombre del estudiante: sonia smith\n",
            "Codigo: U000582515\n"
          ]
        }
      ]
    },
    {
      "cell_type": "markdown",
      "source": [],
      "metadata": {
        "id": "hgnx-6hgzfT3"
      }
    },
    {
      "cell_type": "markdown",
      "source": [
        "2. Diseñe un algoritmo para calcular el volumen de un cono"
      ],
      "metadata": {
        "id": "646hJ8y007V-"
      }
    },
    {
      "cell_type": "code",
      "source": [
        "radio = float(input(\"ingrese el radio del cono: \"))\n",
        "altura = float(input(\"ingrese la altura del cono: \"))\n",
        "\n",
        "vol = (1/3) * 3.14159 * radio**2 * altura\n",
        "print(f\"el volumen del cono es: {vol} \")"
      ],
      "metadata": {
        "colab": {
          "base_uri": "https://localhost:8080/"
        },
        "id": "vQ1HF_h12PRs",
        "outputId": "b3f5b1fb-350c-41b6-b467-7c9fd686aa96"
      },
      "execution_count": null,
      "outputs": [
        {
          "output_type": "stream",
          "name": "stdout",
          "text": [
            "ingrese el radio del cono: 5\n",
            "ingrese la altura del cono: 6\n",
            "el volumen del cono es: 157.0795 \n"
          ]
        }
      ]
    },
    {
      "cell_type": "markdown",
      "source": [
        "3. Dado el conjunto de n servidores que apoyen una red de computadores, diseñe un programa\n",
        "que calcule el número total de conexiones entre los servidores que soportan la red."
      ],
      "metadata": {
        "id": "GWx8ELFo6BmZ"
      }
    },
    {
      "cell_type": "code",
      "source": [
        "n = int(input(\"ingrese el numero  de servidores: \"))\n",
        "\n",
        "total_de_conexiones = (n * (n - 1)) // 2\n",
        "\n",
        "print(f\"el total de conexiones que existen entre los {n} de servidores es:  {total_de_conexiones} \")"
      ],
      "metadata": {
        "colab": {
          "base_uri": "https://localhost:8080/"
        },
        "id": "SwSLrARG7RNh",
        "outputId": "3ab3d929-961f-4ed7-ab30-c83c0f8d406a"
      },
      "execution_count": null,
      "outputs": [
        {
          "output_type": "stream",
          "name": "stdout",
          "text": [
            "ingrese el numero  de servidores: 5\n",
            "el total de conexiones que existen entre los 5 de servidores es:  10 \n"
          ]
        }
      ]
    },
    {
      "cell_type": "markdown",
      "source": [
        "4. Diseñe un algoritmo que lea temperatura en grados centígrados (o\n",
        "C) y la convierta en grados Fahrenheit (o F) y a grados Kelvin (o\n",
        "K)."
      ],
      "metadata": {
        "id": "8B5PyfPG9Hmx"
      }
    },
    {
      "cell_type": "code",
      "source": [
        "temp_celsius = float(input(\"ingrese la temperatura en grados celsius: \"))\n",
        "\n",
        "temp_fahrenheit = (temp_celsius * 9/5) + 32\n",
        "\n",
        "temp_kelvin = temp_celsius + 273.15\n",
        "\n",
        "print(f\"{temp_celsius}) grados celsius son equivalentes a {temp_fahrenheit:.2f} grados fahrenheit.\")\n",
        "print(f\"{temp_celsius}) grados celsius son equivalentes a {temp_kelvin:.2f} kelvin.\" )"
      ],
      "metadata": {
        "colab": {
          "base_uri": "https://localhost:8080/"
        },
        "id": "RkhjJ6Uc9Six",
        "outputId": "5bce80b1-0fc9-4b72-86b4-58a1c0e02911"
      },
      "execution_count": null,
      "outputs": [
        {
          "output_type": "stream",
          "name": "stdout",
          "text": [
            "ingrese la temperatura en grados celsius: 5\n",
            "5.0) grados celsius son equivalentes a 41.00 grados fahrenheit.\n",
            "5.0) grados celsius son equivalentes a 278.15 kelvin.\n"
          ]
        }
      ]
    }
  ]
}