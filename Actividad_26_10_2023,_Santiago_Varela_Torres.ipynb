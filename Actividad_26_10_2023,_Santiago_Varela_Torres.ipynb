{
  "nbformat": 4,
  "nbformat_minor": 0,
  "metadata": {
    "colab": {
      "provenance": [],
      "authorship_tag": "ABX9TyOuO0qCn+tNhxax/KJJ8Qzq",
      "include_colab_link": true
    },
    "kernelspec": {
      "name": "python3",
      "display_name": "Python 3"
    },
    "language_info": {
      "name": "python"
    }
  },
  "cells": [
    {
      "cell_type": "markdown",
      "metadata": {
        "id": "view-in-github",
        "colab_type": "text"
      },
      "source": [
        "<a href=\"https://colab.research.google.com/github/SantiagoVarel4/PROGCOM-A/blob/main/Actividad_26_10_2023%2C_Santiago_Varela_Torres.ipynb\" target=\"_parent\"><img src=\"https://colab.research.google.com/assets/colab-badge.svg\" alt=\"Open In Colab\"/></a>"
      ]
    },
    {
      "cell_type": "code",
      "execution_count": 25,
      "metadata": {
        "id": "q-8udhDWKCT3"
      },
      "outputs": [],
      "source": [
        "consonantes=[\"b\",\"c\",\"d\",\"f\",\"g\",\"h\",\"j\",\"k\",\"l\",\"m\",\"n\",\"ñ\",\"p\",\"q\",\"r\",\"s\",\"t\",\"v\",\"w\",\"x\",\"y\",\"z\"]\n",
        "vocales=[\"a\",\"e\",\"i\",\"o\",\"u\"]\n",
        "def codificador(palabra):\n",
        "  codigo=[]\n",
        "  palabra=palabra.lower()\n",
        "  for i in palabra:\n",
        "    if i in consonantes:\n",
        "      codigo.append(consonantes[consonantes.index(i)+1])\n",
        "    elif i in vocales:\n",
        "        codigo.append(vocales[vocales.index(i)-1])\n",
        "  palabracod=\"\".join(map(str, codigo))\n",
        "  return palabracod\n",
        "\n"
      ]
    },
    {
      "cell_type": "code",
      "source": [
        "palabra=input(\"ingrese una palabra cualquiera: \")\n",
        "codificador(palabra)"
      ],
      "metadata": {
        "colab": {
          "base_uri": "https://localhost:8080/",
          "height": 53
        },
        "id": "03xAw_d6T1dN",
        "outputId": "d2f3e072-ca7b-4f7c-de73-242d146fec5b"
      },
      "execution_count": 26,
      "outputs": [
        {
          "name": "stdout",
          "output_type": "stream",
          "text": [
            "ingrese una palabra cualquiera: mami\n"
          ]
        },
        {
          "output_type": "execute_result",
          "data": {
            "text/plain": [
              "'nune'"
            ],
            "application/vnd.google.colaboratory.intrinsic+json": {
              "type": "string"
            }
          },
          "metadata": {},
          "execution_count": 26
        }
      ]
    },
    {
      "cell_type": "code",
      "source": [
        "import pandas as pd\n",
        "\n",
        "altura = float(input(\"Ingrese su altura en metros: \"))\n",
        "peso = float(input(\"Ingrese su peso en kilogramos: \"))\n",
        "nombre = input(\"Ingrese su nombre\")\n",
        "\n",
        "imc = round(peso / (altura ** 2), 2)\n",
        "\n",
        "if imc < 18.5:\n",
        "    descripcion = \"Bajo peso\"\n",
        "elif imc < 25:\n",
        "    descripcion = \"Peso normal\"\n",
        "elif imc < 30:\n",
        "    descripcion = \"Sobrepeso\"\n",
        "else:\n",
        "    descripcion = \"Obesidad\"\n",
        "\n",
        "df = pd.DataFrame({\n",
        "    \"Nombre\": [nombre],\n",
        "    \"IMC\": [imc],\n",
        "    \"Descripción\": [descripcion]\n",
        "})\n",
        "\n",
        "print (df)"
      ],
      "metadata": {
        "colab": {
          "base_uri": "https://localhost:8080/"
        },
        "id": "rMMuKyBrWQ_a",
        "outputId": "b0256c58-2080-42a7-cb67-7b65ccbedf6b"
      },
      "execution_count": 38,
      "outputs": [
        {
          "output_type": "stream",
          "name": "stdout",
          "text": [
            "Ingrese su altura en metros: 1.70\n",
            "Ingrese su peso en kilogramos: 63\n",
            "Ingrese su nombreSanti\n",
            "  Nombre   IMC  Descripción\n",
            "0  Santi  21.8  Peso normal\n"
          ]
        }
      ]
    }
  ]
}